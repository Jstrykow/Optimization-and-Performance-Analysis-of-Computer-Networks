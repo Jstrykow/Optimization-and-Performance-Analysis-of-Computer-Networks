{
 "cells": [
  {
   "cell_type": "code",
   "execution_count": 1,
   "metadata": {},
   "outputs": [
    {
     "name": "stdout",
     "output_type": "stream",
     "text": [
      "Link: start: 1, end: 2, number of fibers: 72, fiber cost: 1, number of lambdas_in_fiber: 2\n",
      "Link: start: 1, end: 3, number of fibers: 72, fiber cost: 1, number of lambdas_in_fiber: 2\n",
      "Link: start: 2, end: 3, number of fibers: 72, fiber cost: 1, number of lambdas_in_fiber: 2\n",
      "Link: start: 2, end: 4, number of fibers: 72, fiber cost: 1, number of lambdas_in_fiber: 2\n",
      "Link: start: 3, end: 4, number of fibers: 72, fiber cost: 1, number of lambdas_in_fiber: 2\n",
      "start node: 1, end node: 2, demand_volume: 3, paths list:  path id: 1, link list: ['1']  path id: 2, link list: ['2', '3']  path id: 3, link list: ['2', '5', '4'] \n",
      "start node: 1, end node: 3, demand_volume: 4, paths list:  path id: 1, link list: ['2']  path id: 2, link list: ['1', '3']  path id: 3, link list: ['1', '4', '5'] \n",
      "start node: 1, end node: 4, demand_volume: 5, paths list:  path id: 1, link list: ['1', '4']  path id: 2, link list: ['2', '5'] \n",
      "start node: 2, end node: 3, demand_volume: 2, paths list:  path id: 1, link list: ['3']  path id: 2, link list: ['1', '2']  path id: 3, link list: ['4', '5'] \n",
      "start node: 2, end node: 4, demand_volume: 3, paths list:  path id: 1, link list: ['4']  path id: 2, link list: ['3', '5']  path id: 3, link list: ['1', '2', '5'] \n",
      "start node: 3, end node: 4, demand_volume: 4, paths list:  path id: 1, link list: ['5']  path id: 2, link list: ['3', '4']  path id: 3, link list: ['2', '1', '4'] \n",
      "\n"
     ]
    }
   ],
   "source": [
    "from network.Link import Link\n",
    "from network.Path import Path\n",
    "from network.Demand import Demand\n",
    "from network.Net import Net\n",
    "from input_data_parser import Input_Reader\n",
    "ir = Input_Reader()\n",
    "net = ir.read_links(\"data/net4.txt\")\n",
    "print(net)"
   ]
  },
  {
   "cell_type": "code",
   "execution_count": 4,
   "metadata": {},
   "outputs": [
    {
     "name": "stdout",
     "output_type": "stream",
     "text": [
      "start node: 1, end node: 2, demand_volume: 3, paths list:  path id: 1, link list: ['1']  path id: 2, link list: ['2', '3']  path id: 3, link list: ['2', '5', '4'] \n",
      "start node: 1, end node: 3, demand_volume: 4, paths list:  path id: 1, link list: ['2']  path id: 2, link list: ['1', '3']  path id: 3, link list: ['1', '4', '5'] \n",
      "start node: 1, end node: 4, demand_volume: 5, paths list:  path id: 1, link list: ['1', '4']  path id: 2, link list: ['2', '5'] \n",
      "start node: 2, end node: 3, demand_volume: 2, paths list:  path id: 1, link list: ['3']  path id: 2, link list: ['1', '2']  path id: 3, link list: ['4', '5'] \n",
      "start node: 2, end node: 4, demand_volume: 3, paths list:  path id: 1, link list: ['4']  path id: 2, link list: ['3', '5']  path id: 3, link list: ['1', '2', '5'] \n",
      "start node: 3, end node: 4, demand_volume: 4, paths list:  path id: 1, link list: ['5']  path id: 2, link list: ['3', '4']  path id: 3, link list: ['2', '1', '4'] \n"
     ]
    }
   ],
   "source": [
    "for demand in net.demands:\n",
    "    print(demand)"
   ]
  },
  {
   "cell_type": "code",
   "execution_count": 5,
   "metadata": {},
   "outputs": [
    {
     "data": {
      "text/plain": [
       "[(1, 0, 0), (2, 0, 0), (3, 0, 0), (4, 0, 0), (5, 0, 0)]"
      ]
     },
     "execution_count": 5,
     "metadata": {},
     "output_type": "execute_result"
    }
   ],
   "source": [
    "from network.Solution import Link_load, Demand_flow, Demand_path_flow\n",
    "\n",
    "link_load_list = []\n",
    "def load_calculation():\n",
    "    for link in net.links:\n",
    "        link_load = (link.link_id, 0, 0)\n",
    "        link_load_list.append(link_load)\n",
    "load_calculation()\n",
    "link_load_list\n"
   ]
  },
  {
   "cell_type": "code",
   "execution_count": 16,
   "metadata": {},
   "outputs": [
    {
     "name": "stdout",
     "output_type": "stream",
     "text": [
      "1\n",
      "1\n",
      "2\n",
      "3\n",
      "4\n",
      "5\n",
      "1\n",
      "2\n",
      "2\n",
      "3\n",
      "3\n",
      "4\n",
      "5\n",
      "1\n",
      "2\n",
      "2\n",
      "3\n",
      "4\n",
      "4\n",
      "5\n",
      "5\n",
      "1\n",
      "2\n",
      "2\n",
      "3\n",
      "4\n",
      "5\n",
      "1\n",
      "1\n",
      "2\n",
      "3\n",
      "3\n",
      "4\n",
      "5\n",
      "1\n",
      "1\n",
      "2\n",
      "3\n",
      "4\n",
      "4\n",
      "5\n",
      "5\n",
      "1\n",
      "1\n",
      "2\n",
      "3\n",
      "4\n",
      "4\n",
      "5\n",
      "1\n",
      "2\n",
      "2\n",
      "3\n",
      "4\n",
      "5\n",
      "5\n",
      "1\n",
      "2\n",
      "3\n",
      "3\n",
      "4\n",
      "5\n",
      "1\n",
      "1\n",
      "2\n",
      "2\n",
      "3\n",
      "4\n",
      "5\n",
      "1\n",
      "2\n",
      "3\n",
      "4\n",
      "4\n",
      "5\n",
      "5\n",
      "1\n",
      "2\n",
      "3\n",
      "4\n",
      "4\n",
      "5\n",
      "1\n",
      "2\n",
      "3\n",
      "3\n",
      "4\n",
      "5\n",
      "5\n",
      "1\n",
      "1\n",
      "2\n",
      "2\n",
      "3\n",
      "4\n",
      "5\n",
      "5\n",
      "1\n",
      "2\n",
      "3\n",
      "4\n",
      "5\n",
      "5\n",
      "1\n",
      "2\n",
      "3\n",
      "3\n",
      "4\n",
      "4\n",
      "5\n",
      "1\n",
      "1\n",
      "2\n",
      "2\n",
      "3\n",
      "4\n",
      "4\n",
      "5\n"
     ]
    }
   ],
   "source": [
    "for demand in net.demands:\n",
    "    for path in demand.paths_list:\n",
    "        for link in net.links:\n",
    "            if str(link.link_id) in path.links_list:\n",
    "                print(f\" {path.links_list} {link.link_id}\")\n"
   ]
  }
 ],
 "metadata": {
  "interpreter": {
   "hash": "f376843c3d42045d5a7a8f27ddb7a5269bd1a29285dc50e5aac58ffa4c8c0bba"
  },
  "kernelspec": {
   "display_name": "Python 3.8.10 64-bit (windows store)",
   "language": "python",
   "name": "python3"
  },
  "language_info": {
   "codemirror_mode": {
    "name": "ipython",
    "version": 3
   },
   "file_extension": ".py",
   "mimetype": "text/x-python",
   "name": "python",
   "nbconvert_exporter": "python",
   "pygments_lexer": "ipython3",
   "version": "3.8.10"
  },
  "orig_nbformat": 4
 },
 "nbformat": 4,
 "nbformat_minor": 2
}
