{
 "cells": [
  {
   "cell_type": "code",
   "execution_count": 45,
   "metadata": {},
   "outputs": [
    {
     "ename": "ModuleNotFoundError",
     "evalue": "No module named 'i'",
     "output_type": "error",
     "traceback": [
      "\u001b[1;31m---------------------------------------------------------------------------\u001b[0m",
      "\u001b[1;31mModuleNotFoundError\u001b[0m                       Traceback (most recent call last)",
      "\u001b[1;32mc:\\Users\\jakub\\OneDrive - Politechnika Warszawska\\Documents\\aaStudia\\aaSem1\\OAST\\Projekt\\test.ipynb Cell 1'\u001b[0m in \u001b[0;36m<cell line: 6>\u001b[1;34m()\u001b[0m\n\u001b[0;32m      <a href='vscode-notebook-cell:/c%3A/Users/jakub/OneDrive%20-%20Politechnika%20Warszawska/Documents/aaStudia/aaSem1/OAST/Projekt/test.ipynb#ch0000000?line=3'>4</a>\u001b[0m \u001b[39mfrom\u001b[39;00m \u001b[39mnetwork\u001b[39;00m\u001b[39m.\u001b[39;00m\u001b[39mNet\u001b[39;00m \u001b[39mimport\u001b[39;00m Net\n\u001b[0;32m      <a href='vscode-notebook-cell:/c%3A/Users/jakub/OneDrive%20-%20Politechnika%20Warszawska/Documents/aaStudia/aaSem1/OAST/Projekt/test.ipynb#ch0000000?line=4'>5</a>\u001b[0m \u001b[39mfrom\u001b[39;00m \u001b[39minput_data_parser\u001b[39;00m \u001b[39mimport\u001b[39;00m Input_Reader\n\u001b[1;32m----> <a href='vscode-notebook-cell:/c%3A/Users/jakub/OneDrive%20-%20Politechnika%20Warszawska/Documents/aaStudia/aaSem1/OAST/Projekt/test.ipynb#ch0000000?line=5'>6</a>\u001b[0m \u001b[39mimport\u001b[39;00m \u001b[39mi\u001b[39;00m\n\u001b[0;32m      <a href='vscode-notebook-cell:/c%3A/Users/jakub/OneDrive%20-%20Politechnika%20Warszawska/Documents/aaStudia/aaSem1/OAST/Projekt/test.ipynb#ch0000000?line=6'>7</a>\u001b[0m ir \u001b[39m=\u001b[39m Input_Reader()\n\u001b[0;32m      <a href='vscode-notebook-cell:/c%3A/Users/jakub/OneDrive%20-%20Politechnika%20Warszawska/Documents/aaStudia/aaSem1/OAST/Projekt/test.ipynb#ch0000000?line=7'>8</a>\u001b[0m net \u001b[39m=\u001b[39m ir\u001b[39m.\u001b[39mread_links(\u001b[39m\"\u001b[39m\u001b[39mdata/net4.txt\u001b[39m\u001b[39m\"\u001b[39m)\n",
      "\u001b[1;31mModuleNotFoundError\u001b[0m: No module named 'i'"
     ]
    }
   ],
   "source": [
    "from network.Link import Link\n",
    "from network.Path import Path\n",
    "from network.Demand import Demand\n",
    "from network.Net import Net\n",
    "from input_data_parser import Input_Reader\n",
    "ir = Input_Reader()\n",
    "net = ir.read_links(\"data/net4.txt\")\n",
    "print(net)"
   ]
  },
  {
   "cell_type": "code",
   "execution_count": null,
   "metadata": {},
   "outputs": [
    {
     "name": "stdout",
     "output_type": "stream",
     "text": [
      "start node: 1, end node: 2, demand_volume: 3, paths list:  path id: 1, link list: ['1']  path id: 2, link list: ['2', '3']  path id: 3, link list: ['2', '5', '4'] \n",
      "start node: 1, end node: 3, demand_volume: 4, paths list:  path id: 1, link list: ['2']  path id: 2, link list: ['1', '3']  path id: 3, link list: ['1', '4', '5'] \n",
      "start node: 1, end node: 4, demand_volume: 5, paths list:  path id: 1, link list: ['1', '4']  path id: 2, link list: ['2', '5'] \n",
      "start node: 2, end node: 3, demand_volume: 2, paths list:  path id: 1, link list: ['3']  path id: 2, link list: ['1', '2']  path id: 3, link list: ['4', '5'] \n",
      "start node: 2, end node: 4, demand_volume: 3, paths list:  path id: 1, link list: ['4']  path id: 2, link list: ['3', '5']  path id: 3, link list: ['1', '2', '5'] \n",
      "start node: 3, end node: 4, demand_volume: 4, paths list:  path id: 1, link list: ['5']  path id: 2, link list: ['3', '4']  path id: 3, link list: ['2', '1', '4'] \n"
     ]
    }
   ],
   "source": [
    "for demand in net.demands:\n",
    "    print(demand)"
   ]
  },
  {
   "cell_type": "code",
   "execution_count": null,
   "metadata": {},
   "outputs": [
    {
     "name": "stdout",
     "output_type": "stream",
     "text": [
      "\n",
      "1 0 0\n",
      "\n",
      "2 0 0\n",
      "\n",
      "3 0 0\n",
      "\n",
      "4 0 0\n",
      "\n",
      "5 0 0\n"
     ]
    }
   ],
   "source": [
    "from network.Solution import Link_load, Demand_flow, Demand_path_flow\n",
    "\n",
    "link_load_list = []\n",
    "def load_calculation():\n",
    "    for link in net.links:\n",
    "        link_load = Link_load(link.link_id, 0, 0)\n",
    "        link_load_list.append(link_load)\n",
    "load_calculation()\n",
    "for link_load in link_load_list:\n",
    "    print(link_load)\n"
   ]
  },
  {
   "cell_type": "code",
   "execution_count": 44,
   "metadata": {},
   "outputs": [
    {
     "name": "stdout",
     "output_type": "stream",
     "text": [
      "path id: 1, link list: ['1']\n",
      "path id: 2, link list: ['2', '3']\n",
      "path id: 3, link list: ['2', '5', '4']\n",
      "path id: 1, link list: ['2']\n",
      "path id: 2, link list: ['1', '3']\n",
      "path id: 3, link list: ['1', '4', '5']\n",
      "path id: 1, link list: ['1', '4']\n",
      "path id: 2, link list: ['2', '5']\n",
      "path id: 1, link list: ['3']\n",
      "path id: 2, link list: ['1', '2']\n",
      "path id: 3, link list: ['4', '5']\n",
      "path id: 1, link list: ['4']\n",
      "path id: 2, link list: ['3', '5']\n",
      "path id: 3, link list: ['1', '2', '5']\n",
      "path id: 1, link list: ['5']\n",
      "path id: 2, link list: ['3', '4']\n",
      "path id: 3, link list: ['2', '1', '4']\n"
     ]
    }
   ],
   "source": [
    "# demands\n",
    "#   - paths_list\n",
    "#       - Path\n",
    "# net.link\n",
    "#   - Link\n",
    "#paths = net.get_all_demands_paths()\n",
    "for demand in net.demands:\n",
    "    for path in demand.paths_list:\n",
    "        print(path)\n",
    "\n",
    "for link in net.links:\n",
    "    for path in demand.paths_list:\n",
    "        for load_link in link_load_list:\n",
    "            if str(load_link.link_id) in path.links_list:\n",
    "                load_link.volume += 1\n",
    "                # print(path.links_list)\n",
    "                # print(load_link.link_id)\n",
    "                # print(f\" {path.links_list} {load_link.link_id}\")"
   ]
  }
 ],
 "metadata": {
  "interpreter": {
   "hash": "f376843c3d42045d5a7a8f27ddb7a5269bd1a29285dc50e5aac58ffa4c8c0bba"
  },
  "kernelspec": {
   "display_name": "Python 3.8.10 64-bit (windows store)",
   "language": "python",
   "name": "python3"
  },
  "language_info": {
   "codemirror_mode": {
    "name": "ipython",
    "version": 3
   },
   "file_extension": ".py",
   "mimetype": "text/x-python",
   "name": "python",
   "nbconvert_exporter": "python",
   "pygments_lexer": "ipython3",
   "version": "3.8.10"
  },
  "orig_nbformat": 4
 },
 "nbformat": 4,
 "nbformat_minor": 2
}
